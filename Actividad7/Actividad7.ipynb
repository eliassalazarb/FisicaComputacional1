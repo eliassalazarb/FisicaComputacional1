{
  "nbformat": 4,
  "nbformat_minor": 0,
  "metadata": {
    "colab": {
      "name": "Actividad7.ipynb",
      "provenance": [],
      "authorship_tag": "ABX9TyM8w1ZpyOXsMFwm7R9UY8vT",
      "include_colab_link": true
    },
    "kernelspec": {
      "name": "python3",
      "display_name": "Python 3"
    }
  },
  "cells": [
    {
      "cell_type": "markdown",
      "metadata": {
        "id": "view-in-github",
        "colab_type": "text"
      },
      "source": [
        "<a href=\"https://colab.research.google.com/github/eliassalazarb/FisicaComputacional1/blob/main/Actividad7/Actividad7.ipynb\" target=\"_parent\"><img src=\"https://colab.research.google.com/assets/colab-badge.svg\" alt=\"Open In Colab\"/></a>"
      ]
    },
    {
      "cell_type": "markdown",
      "metadata": {
        "id": "Rr1tSeEwoKCm"
      },
      "source": [
        "#**Algebra Lineal con SciPy.**"
      ]
    },
    {
      "cell_type": "markdown",
      "metadata": {
        "id": "OA5Ygz9YoUfr"
      },
      "source": [
        "Utilizaremos la biblioteca scipy.linalg para operar con vectores y matrices (Arreglos de NumPy: 1-D, 2-D, 3-D, etc).\r\n",
        "\r\n"
      ]
    },
    {
      "cell_type": "code",
      "metadata": {
        "id": "4zbW1ajCoDx9"
      },
      "source": [
        "# Cargamos las bibliotecas para trabajar en Algebra Lineal\r\n",
        "\r\n",
        "import numpy as np\r\n",
        "import scipy.linalg as la\r\n",
        "from numpy.linalg import matrix_power as mpow\r\n",
        "import pandas as pd\r\n",
        "import random\r\n",
        "import matplotlib.pyplot as plt\r\n",
        "import seaborn as sns\r\n",
        "import statsmodels.api as sm"
      ],
      "execution_count": null,
      "outputs": []
    },
    {
      "cell_type": "markdown",
      "metadata": {
        "id": "0hDabpbgoa3Z"
      },
      "source": [
        "**Ejercicio 1**"
      ]
    },
    {
      "cell_type": "code",
      "metadata": {
        "colab": {
          "base_uri": "https://localhost:8080/"
        },
        "id": "wJ8wQLUbomIM",
        "outputId": "f772f6f2-fa78-4436-ed55-1e26d38f1dfe"
      },
      "source": [
        "# Definimos las matrices\r\n",
        "A = np.array([[1,3],[-1,7]])\r\n",
        "print(A)\r\n",
        "\r\n",
        "B = np.array([[5,2],[1,2]])\r\n",
        "print(B)\r\n",
        "\r\n",
        "I = np.eye(2, dtype=int)\r\n",
        "print(I)"
      ],
      "execution_count": null,
      "outputs": [
        {
          "output_type": "stream",
          "text": [
            "[[ 1  3]\n",
            " [-1  7]]\n",
            "[[5 2]\n",
            " [1 2]]\n",
            "[[1 0]\n",
            " [0 1]]\n"
          ],
          "name": "stdout"
        }
      ]
    },
    {
      "cell_type": "code",
      "metadata": {
        "colab": {
          "base_uri": "https://localhost:8080/"
        },
        "id": "ajV5QOXmonEf",
        "outputId": "84484842-6e9f-46ff-f769-f7e33334b776"
      },
      "source": [
        "print('2*I+3*A+A@B')\r\n",
        "print('Resultado')\r\n",
        "print(2*I+3*A+A@B)"
      ],
      "execution_count": null,
      "outputs": [
        {
          "output_type": "stream",
          "text": [
            "2*I+3*A+A@B\n",
            "Resultado\n",
            "[[13 17]\n",
            " [-1 35]]\n"
          ],
          "name": "stdout"
        }
      ]
    },
    {
      "cell_type": "markdown",
      "metadata": {
        "id": "glCuAHTzo8RI"
      },
      "source": [
        "**Ejercicio 2**"
      ]
    },
    {
      "cell_type": "code",
      "metadata": {
        "colab": {
          "base_uri": "https://localhost:8080/"
        },
        "id": "D90rvfFpo5EL",
        "outputId": "b5d0ea5b-8fa5-4347-a40a-5473de25c6e3"
      },
      "source": [
        "# Definimos números aleatorios y la matriz\r\n",
        "a = random.randint(0,10)\r\n",
        "b = random.randint(0,10)\r\n",
        "c = random.randint(0,10)\r\n",
        "d = random.randint(0,10)\r\n",
        "\r\n",
        "M = np.array([[a,b],[c,d]])\r\n",
        "print('Matriz')\r\n",
        "print(M)\r\n",
        "det_M = la.det(M)\r\n",
        "tr_M = np.trace(M)\r\n",
        "print('det(M) =',det_M)\r\n",
        "print('traza(M) =',tr_M)\r\n",
        "\r\n",
        "if det_M != 0:\r\n",
        "  PM = det_M*I - (tr_M)*M + M@M\r\n",
        "  print('P(M) = det(M)- tr(M)M + M^2')\r\n",
        "  print(PM)\r\n",
        "else:\r\n",
        "  print('El determinante es 0')"
      ],
      "execution_count": null,
      "outputs": [
        {
          "output_type": "stream",
          "text": [
            "Matriz\n",
            "[[ 4  3]\n",
            " [10  3]]\n",
            "det(M) = -18.0\n",
            "traza(M) = 7\n",
            "P(M) = det(M)- tr(M)M + M^2\n",
            "[[0. 0.]\n",
            " [0. 0.]]\n"
          ],
          "name": "stdout"
        }
      ]
    },
    {
      "cell_type": "markdown",
      "metadata": {
        "id": "_ZegQ-hSpEsY"
      },
      "source": [
        "**Ejercicio 3**"
      ]
    },
    {
      "cell_type": "code",
      "metadata": {
        "colab": {
          "base_uri": "https://localhost:8080/"
        },
        "id": "LufKZB4MpDNi",
        "outputId": "e7b333a2-1ab9-4c90-d3fc-557bd82d367d"
      },
      "source": [
        "# Definimos la Matriz\r\n",
        "M = np.array([[1,-3,1],[3,-4,1],[0,2,-1]])\r\n",
        "print(M)\r\n",
        "\r\n",
        "# definimos b\r\n",
        "b = np.array([1,5,0]).reshape(3,1)\r\n",
        "print(b)"
      ],
      "execution_count": null,
      "outputs": [
        {
          "output_type": "stream",
          "text": [
            "[[ 1 -3  1]\n",
            " [ 3 -4  1]\n",
            " [ 0  2 -1]]\n",
            "[[1]\n",
            " [5]\n",
            " [0]]\n"
          ],
          "name": "stdout"
        }
      ]
    },
    {
      "cell_type": "code",
      "metadata": {
        "colab": {
          "base_uri": "https://localhost:8080/"
        },
        "id": "3FNLJv7WpMu9",
        "outputId": "e2d732eb-9a93-4d0c-e316-38e952580e27"
      },
      "source": [
        "# Resolviendo el sistema de ecuaciones usando scipy.linalg.solve\r\n",
        "x = la.solve(M, b)\r\n",
        "print(x)"
      ],
      "execution_count": null,
      "outputs": [
        {
          "output_type": "stream",
          "text": [
            "[[3.]\n",
            " [2.]\n",
            " [4.]]\n"
          ],
          "name": "stdout"
        }
      ]
    },
    {
      "cell_type": "code",
      "metadata": {
        "id": "17XjElGqpRPl"
      },
      "source": [
        "# Implementación del método de eliminación Gaussiana\r\n",
        "# Definimos 3 funciones \r\n",
        "\r\n",
        "# Intercambio de posición de renglones.\r\n",
        "def switch_rows(A,i,j):\r\n",
        "    \"Intercambiar renglones i y j en la matriz A.\"\r\n",
        "    n = A.shape[0]\r\n",
        "    E = np.eye(n)\r\n",
        "    E[i,i] = 0\r\n",
        "    E[j,j] = 0\r\n",
        "    E[i,j] = 1\r\n",
        "    E[j,i] = 1\r\n",
        "    return E @ A\r\n",
        "\r\n",
        "# Multiplicar un renglón por una constante no nula.\r\n",
        "def scale_row(A,k,i):\r\n",
        "    \"Multiplicar el renglón i por k en la matriz A.\"\r\n",
        "    n = A.shape[0]\r\n",
        "    E = np.eye(n)\r\n",
        "    E[i,i] = k\r\n",
        "    return E @ A\r\n",
        "\r\n",
        "# Sumar un múltiplo de un reglon a otro renglón.\r\n",
        "def add_row(A,k,i,j):\r\n",
        "    \"Sumar k veces el renglón j al renglón i en la matriz A.\"\r\n",
        "    n = A.shape[0]\r\n",
        "    E = np.eye(n)\r\n",
        "    if i == j:\r\n",
        "        E[i,i] = k + 1\r\n",
        "    else:\r\n",
        "        E[i,j] = k\r\n",
        "    return E @ A"
      ],
      "execution_count": null,
      "outputs": []
    },
    {
      "cell_type": "code",
      "metadata": {
        "colab": {
          "base_uri": "https://localhost:8080/"
        },
        "id": "HzDHjRalpVGZ",
        "outputId": "dccb7162-4632-4e40-f4c3-190ed73d69db"
      },
      "source": [
        "# Matriz aumentada: Unimos la matriz M con la matriz Identidad \r\n",
        "A = np.hstack([M,np.eye(3)])\r\n",
        "print(A)"
      ],
      "execution_count": null,
      "outputs": [
        {
          "output_type": "stream",
          "text": [
            "[[ 1. -3.  1.  1.  0.  0.]\n",
            " [ 3. -4.  1.  0.  1.  0.]\n",
            " [ 0.  2. -1.  0.  0.  1.]]\n"
          ],
          "name": "stdout"
        }
      ]
    },
    {
      "cell_type": "code",
      "metadata": {
        "colab": {
          "base_uri": "https://localhost:8080/"
        },
        "id": "jwB8WJzupYUw",
        "outputId": "a6ee9f79-e087-4165-b2f8-7c40a532aa2b"
      },
      "source": [
        "# \"Sumar k veces el renglón j al renglón i en la matriz A.\"\r\n",
        "# add_row(A,k,i,j):\r\n",
        "# 1) L2 - 3 L1 ->  L2; \r\n",
        "A1 = add_row(A,-3,1,0)\r\n",
        "print(A1)"
      ],
      "execution_count": null,
      "outputs": [
        {
          "output_type": "stream",
          "text": [
            "[[ 1. -3.  1.  1.  0.  0.]\n",
            " [ 0.  5. -2. -3.  1.  0.]\n",
            " [ 0.  2. -1.  0.  0.  1.]]\n"
          ],
          "name": "stdout"
        }
      ]
    },
    {
      "cell_type": "code",
      "metadata": {
        "colab": {
          "base_uri": "https://localhost:8080/"
        },
        "id": "FI32TL8ApbzS",
        "outputId": "982a5d00-fba6-4644-9bab-c151725f737f"
      },
      "source": [
        "# 2) 1/5 L2 ->  L2; \r\n",
        "#    L1 + 3 L2 -> L1;\r\n",
        "#    L3 - 2 L2 -> L3;\r\n",
        "A2_2 = scale_row(A1,0.2,1)\r\n",
        "A2_1 = add_row(A2_2,3,0,1)\r\n",
        "A2 = add_row(A2_1,-2,2,1)\r\n",
        "print(A2)"
      ],
      "execution_count": null,
      "outputs": [
        {
          "output_type": "stream",
          "text": [
            "[[ 1.   0.  -0.2 -0.8  0.6  0. ]\n",
            " [ 0.   1.  -0.4 -0.6  0.2  0. ]\n",
            " [ 0.   0.  -0.2  1.2 -0.4  1. ]]\n"
          ],
          "name": "stdout"
        }
      ]
    },
    {
      "cell_type": "code",
      "metadata": {
        "colab": {
          "base_uri": "https://localhost:8080/"
        },
        "id": "aZ5EVIUnpeeB",
        "outputId": "20c6dca6-e1a9-407a-fb3c-1c147bab137a"
      },
      "source": [
        "# 3) -5 L3 ->  L3; \r\n",
        "#    L1 + 1 L3 -> L1;\r\n",
        "#    L2 + 2 L3 -> L2;\r\n",
        "A3_2 = scale_row(A2,-5,2)\r\n",
        "A3_1 = add_row(A3_2,0.2,0,2)\r\n",
        "A3 = add_row(A3_1,0.4,1,2)\r\n",
        "print(A3)"
      ],
      "execution_count": null,
      "outputs": [
        {
          "output_type": "stream",
          "text": [
            "[[ 1.00000000e+00  0.00000000e+00 -9.99200722e-17 -2.00000000e+00\n",
            "   1.00000000e+00 -1.00000000e+00]\n",
            " [ 0.00000000e+00  1.00000000e+00 -8.88178420e-17 -3.00000000e+00\n",
            "   1.00000000e+00 -2.00000000e+00]\n",
            " [ 0.00000000e+00  0.00000000e+00  1.00000000e+00 -6.00000000e+00\n",
            "   2.00000000e+00 -5.00000000e+00]]\n"
          ],
          "name": "stdout"
        }
      ]
    },
    {
      "cell_type": "code",
      "metadata": {
        "colab": {
          "base_uri": "https://localhost:8080/"
        },
        "id": "la1QgQ0-phLE",
        "outputId": "94e82936-6c3d-4f4f-bfab-cf9052685580"
      },
      "source": [
        "# Hemos obtenido la inversa\r\n",
        "M_inv = A3[:,3:]\r\n",
        "print(M_inv)"
      ],
      "execution_count": null,
      "outputs": [
        {
          "output_type": "stream",
          "text": [
            "[[-2.  1. -1.]\n",
            " [-3.  1. -2.]\n",
            " [-6.  2. -5.]]\n"
          ],
          "name": "stdout"
        }
      ]
    },
    {
      "cell_type": "code",
      "metadata": {
        "colab": {
          "base_uri": "https://localhost:8080/"
        },
        "id": "Ghr5mx6pplGu",
        "outputId": "f0895149-442b-49a3-b927-6065daa306d5"
      },
      "source": [
        "# El producto de M_inv @ M = I \r\n",
        "result = M_inv @ M\r\n",
        "print(result)"
      ],
      "execution_count": null,
      "outputs": [
        {
          "output_type": "stream",
          "text": [
            "[[ 1.00000000e+00  1.77635684e-15 -4.44089210e-16]\n",
            " [-4.44089210e-16  1.00000000e+00 -4.44089210e-16]\n",
            " [-8.88178420e-16  3.55271368e-15  1.00000000e+00]]\n"
          ],
          "name": "stdout"
        }
      ]
    },
    {
      "cell_type": "code",
      "metadata": {
        "colab": {
          "base_uri": "https://localhost:8080/"
        },
        "id": "U1Y044yjpn8b",
        "outputId": "39b240ed-17b2-4ab4-ed8c-fd3dd0326f3f"
      },
      "source": [
        "# Checamos la inversa de M con la función 'la.inv(M)'\r\n",
        "la.inv(M)"
      ],
      "execution_count": null,
      "outputs": [
        {
          "output_type": "execute_result",
          "data": {
            "text/plain": [
              "array([[-2.,  1., -1.],\n",
              "       [-3.,  1., -2.],\n",
              "       [-6.,  2., -5.]])"
            ]
          },
          "metadata": {
            "tags": []
          },
          "execution_count": 17
        }
      ]
    },
    {
      "cell_type": "code",
      "metadata": {
        "colab": {
          "base_uri": "https://localhost:8080/"
        },
        "id": "sEhVKCc5pq7z",
        "outputId": "6f05dc9d-0224-4858-802d-5f01f125e04d"
      },
      "source": [
        "# La solución es:\r\n",
        "x = M_inv @ b \r\n",
        "print(x)"
      ],
      "execution_count": null,
      "outputs": [
        {
          "output_type": "stream",
          "text": [
            "[[3.]\n",
            " [2.]\n",
            " [4.]]\n"
          ],
          "name": "stdout"
        }
      ]
    },
    {
      "cell_type": "markdown",
      "metadata": {
        "id": "Jkr3LCEyp1p8"
      },
      "source": [
        "**Ejercicio 4**\r\n"
      ]
    },
    {
      "cell_type": "code",
      "metadata": {
        "colab": {
          "base_uri": "https://localhost:8080/"
        },
        "id": "8kxL3yuQpzFx",
        "outputId": "4b2af252-1aa0-443b-9ee5-f7b093edeb84"
      },
      "source": [
        "# Definimos las matrices\r\n",
        "B1 = np.array([[2,0,0],[0,3,4],[0,4,9]])\r\n",
        "B2 = np.array([[0,1,0],[0,0,1],[1,0,0]])\r\n",
        "B3 = np.array([[2,0,0,0],[1,2,0,0],[0,1,3,0],[0,0,1,3]])\r\n",
        "\r\n",
        "print('B1:')\r\n",
        "print(B1)\r\n",
        "print('B2:')\r\n",
        "print(B2)\r\n",
        "print('B3:')\r\n",
        "print(B3)"
      ],
      "execution_count": null,
      "outputs": [
        {
          "output_type": "stream",
          "text": [
            "B1:\n",
            "[[2 0 0]\n",
            " [0 3 4]\n",
            " [0 4 9]]\n",
            "B2:\n",
            "[[0 1 0]\n",
            " [0 0 1]\n",
            " [1 0 0]]\n",
            "B3:\n",
            "[[2 0 0 0]\n",
            " [1 2 0 0]\n",
            " [0 1 3 0]\n",
            " [0 0 1 3]]\n"
          ],
          "name": "stdout"
        }
      ]
    },
    {
      "cell_type": "code",
      "metadata": {
        "colab": {
          "base_uri": "https://localhost:8080/"
        },
        "id": "Vlrj3JVyp6tl",
        "outputId": "920fe323-b30f-4fd5-c4c4-b1e65d7f64a3"
      },
      "source": [
        "# Obtenemos los eigenvalores/vectores con la biblioteca scipy.linalg.eig()\r\n",
        "\r\n",
        "# Matriz 1\r\n",
        "eigvals1, eigvecs1 = la.eig(B1)\r\n",
        "print('Eigenvalores B1:')\r\n",
        "print(np.round(eigvals1,2))\r\n",
        "print('Eigenvectores B1:')\r\n",
        "print(np.round(eigvecs1,2))\r\n",
        "print('')\r\n",
        "\r\n",
        "# Matriz 2\r\n",
        "eigvals2, eigvecs2 = la.eig(B2)\r\n",
        "print('Eigenvalores B2:')\r\n",
        "print(np.round(eigvals2,2))\r\n",
        "print('Eigenvectores B2:')\r\n",
        "print(np.round(eigvecs2,2))\r\n",
        "print('')\r\n",
        "\r\n",
        "# Matriz 3\r\n",
        "eigvals3, eigvecs3 = la.eig(B3)\r\n",
        "print('Eigenvalores B3:')\r\n",
        "print(np.round(eigvals3,2))\r\n",
        "print('Eigenvectores B1:')\r\n",
        "print(np.round(eigvecs3,2))"
      ],
      "execution_count": null,
      "outputs": [
        {
          "output_type": "stream",
          "text": [
            "Eigenvalores B1:\n",
            "[11.+0.j  1.+0.j  2.+0.j]\n",
            "Eigenvectores B1:\n",
            "[[ 0.    0.    1.  ]\n",
            " [ 0.45  0.89  0.  ]\n",
            " [ 0.89 -0.45  0.  ]]\n",
            "\n",
            "Eigenvalores B2:\n",
            "[-0.5+0.87j -0.5-0.87j  1. +0.j  ]\n",
            "Eigenvectores B2:\n",
            "[[ 0.58+0.j   0.58-0.j  -0.58+0.j ]\n",
            " [-0.29+0.5j -0.29-0.5j -0.58+0.j ]\n",
            " [-0.29-0.5j -0.29+0.5j -0.58+0.j ]]\n",
            "\n",
            "Eigenvalores B3:\n",
            "[3.+0.j 3.+0.j 2.+0.j 2.+0.j]\n",
            "Eigenvectores B1:\n",
            "[[ 0.    0.    0.    0.  ]\n",
            " [ 0.    0.    0.58 -0.58]\n",
            " [ 0.    0.   -0.58  0.58]\n",
            " [ 1.   -1.    0.58 -0.58]]\n"
          ],
          "name": "stdout"
        }
      ]
    },
    {
      "cell_type": "markdown",
      "metadata": {
        "id": "cl6mLcO4p__E"
      },
      "source": [
        "**Ejercicio 5**"
      ]
    },
    {
      "cell_type": "code",
      "metadata": {
        "colab": {
          "base_uri": "https://localhost:8080/"
        },
        "id": "p5-YJCRHp-tK",
        "outputId": "851b8826-432a-49a0-a5e7-03d3cd31f5f1"
      },
      "source": [
        "## Como tenemos un total de 8 puntos realizaremos una interpolacion con un polinomio de grado 7 donde\r\n",
        "x = np.array([0,0.5,1,1.5,2,2.5,3,3.5])\r\n",
        "y = np.array([0,0.47942,0.84147,0.99749,0.90930,0.59847,0.14112,-0.35078]).reshape(8,1)\r\n",
        "\r\n",
        "##Nuestra matriz para la variable x será\r\n",
        "X = np.column_stack([x**k for k in range(0,8)])\r\n",
        "\r\n",
        "## La solución para la ecuación Xa=y usando spicy.linalg==la\r\n",
        "a = la.solve(X,y)\r\n",
        "print(a)"
      ],
      "execution_count": null,
      "outputs": [
        {
          "output_type": "stream",
          "text": [
            "[[ 0.00000000e+00]\n",
            " [ 1.00067181e+00]\n",
            " [-3.70788889e-03]\n",
            " [-1.58867889e-01]\n",
            " [-8.30222222e-03]\n",
            " [ 1.31964444e-02]\n",
            " [-1.54488889e-03]\n",
            " [ 2.46349206e-05]]\n"
          ],
          "name": "stdout"
        }
      ]
    },
    {
      "cell_type": "code",
      "metadata": {
        "colab": {
          "base_uri": "https://localhost:8080/",
          "height": 299
        },
        "id": "j3Ra1j2cqFp6",
        "outputId": "86823516-6916-4af5-aa20-b5bdd053afe0"
      },
      "source": [
        "# Graficamos los resultados del polinomio interpolante de coeficientes a[0], a[1], y a[2]\r\n",
        "# Sobreponemos en la gráfica los puntos conocidos en azul con puntos ('b.')\r\n",
        "xs = np.linspace(0,4,10)\r\n",
        "ys_temp = 0\r\n",
        "for n in range(0,8):\r\n",
        "  ys = ys_temp + a[n]*xs**n\r\n",
        "  ys_temp = ys\r\n",
        "plt.plot(xs,ys,x,y,'b.', x, np.sin(x))\r\n",
        "plt.title('Polinomio interpolante', size=18)\r\n",
        "plt.xlabel('x')\r\n",
        "plt.ylabel('y')\r\n",
        "plt.show()"
      ],
      "execution_count": null,
      "outputs": [
        {
          "output_type": "display_data",
          "data": {
            "image/png": "[encoded data removed]",
            "text/plain": [
              "<Figure size 432x288 with 1 Axes>"
            ]
          },
          "metadata": {
            "tags": [],
            "needs_background": "light"
          }
        }
      ]
    },
    {
      "cell_type": "markdown",
      "metadata": {
        "id": "oIkkj0B5qQ5y"
      },
      "source": [
        "**Ejercicio 6**"
      ]
    },
    {
      "cell_type": "code",
      "metadata": {
        "id": "lCyN46znqIp0"
      },
      "source": [
        "# Tomar datos del url en formato \"raw\"\r\n",
        "url = 'https://raw.githubusercontent.com/eduardxmartinez/FisicaComputacional/master/Actividad1/2030.txt'\r\n",
        "\r\n",
        "# Definimos los nombres de las columnas\r\n",
        "# El archivo tiene códigos ASCII extendido (Español), encoding='cp1251' Windows (Europa Occidental)\r\n",
        "# El separador de datos es de uno o más espacios, sep='\\s+'\r\n",
        "# Se brincará los primeros 19 renglones y el último, afirmamos que no nay encabezado\r\n",
        "# Se procesan los datos utilizando Python, engine='python' \r\n",
        "my_cols = ['Fecha','Precip','Evap','Tmax','Tmin',]\r\n",
        "df_tkt = pd.read_csv(url, names=my_cols, encoding='cp1251', sep='\\s+', header=None, skiprows=19, skipfooter=1, engine='python') \r\n",
        "\r\n",
        "# Hacemos una copia de trabajo y preservamos el dataframe original\r\n",
        "df_tkt0 = df_tkt.copy()\r\n",
        "\r\n",
        "# Cambiamos la palabra nulo por un vacío y verificamos\r\n",
        "str_Nulo = 'Nulo'\r\n",
        "df_tkt1 = df_tkt0.replace(to_replace=str_Nulo, value='', regex=True)\r\n",
        "\r\n",
        "# Convertimos los valores de las variables ambientales a números flotantes y verificamos \r\n",
        "cols_list = ['Precip', 'Evap', 'Tmax', 'Tmin']\r\n",
        "for cols in cols_list:\r\n",
        "  df_tkt1[cols] = pd.to_numeric(df_tkt0[cols], errors='coerce')\r\n",
        "\r\n",
        "# Definimos un nuevo dataframe por si hay que regresarse\r\n",
        "df_tkt2 = df_tkt1.copy()\r\n",
        "\r\n",
        "# Se convierte el objeto Fecha a variable fecha que python reconoce\r\n",
        "df_tkt2['Fecha'] = pd.to_datetime(df_tkt2['Fecha'], dayfirst=True).copy()\r\n",
        "\r\n",
        "# Añadimos dos columnas adicionales: df['Año'], df['Mes']\r\n",
        "# Usaremos la función .dt.year y .dt.month para extraer el Año y Mes de la Fecha\r\n",
        "df_tkt2['Año'] = df_tkt2['Fecha'].dt.year\r\n",
        "df_tkt2['Mes'] = df_tkt2['Fecha'].dt.month\r\n",
        "\r\n",
        "# Hacemos una copia del trabajo y es con el que trabajaremos para el análisis de datos\r\n",
        "df_meteotkt = df_tkt2.copy()\r\n",
        "\r\n",
        "# Eliminamos la columna de Mes(numérico) y agregamos Mes(caractéres)\r\n",
        "df_meteotkt.drop('Mes', axis=1, inplace=True)\r\n",
        "df_meteotkt['Mes'] = df_meteotkt['Fecha'].dt.strftime('%b')\r\n",
        "\r\n",
        "# Nueva copia del DataFrame para Series de Tiempo\r\n",
        "df_meteotkt_ts = df_meteotkt.copy()\r\n",
        "\r\n",
        "# Reemplazamos el índice por la variable 'Fecha' \r\n",
        "df_meteotkt_ts = df_meteotkt.set_index('Fecha')\r\n",
        "\r\n",
        "# Seleccionaremos un conjunto de años de 30 años\r\n",
        "df_90 = df_meteotkt_ts[(df_meteotkt_ts['Año'] >= 1990) & (df_meteotkt_ts['Año'] < 2013)]"
      ],
      "execution_count": null,
      "outputs": []
    },
    {
      "cell_type": "code",
      "metadata": {
        "colab": {
          "base_uri": "https://localhost:8080/"
        },
        "id": "K0MkWbHDqY82",
        "outputId": "6858fc41-fe13-4523-ecce-ffa8936b79c3"
      },
      "source": [
        "ts_test_TMX = df_90.Tmax\r\n",
        "decomposition_TMX = sm.tsa.seasonal_decompose(ts_test_TMX.interpolate(), model='additive', freq=365)\r\n",
        "\r\n",
        "# La función regresa 3 componentes: tendencia, estacionalidad y un residuo\r\n",
        "\r\n",
        "trend_TMX = decomposition_TMX.trend\r\n",
        "trend_TMX = trend_TMX[~np.isnan(trend_TMX)]\r\n",
        "print(trend_TMX)"
      ],
      "execution_count": null,
      "outputs": [
        {
          "output_type": "stream",
          "text": [
            "Fecha\n",
            "1990-07-02    26.167123\n",
            "1990-07-03    26.161644\n",
            "1990-07-04    26.189041\n",
            "1990-07-05    26.194521\n",
            "1990-07-06    26.189041\n",
            "                ...    \n",
            "2012-04-28    26.701370\n",
            "2012-04-29    26.739726\n",
            "2012-04-30    26.772603\n",
            "2012-05-01    26.802740\n",
            "2012-05-02    26.830137\n",
            "Name: Tmax, Length: 7935, dtype: float64\n"
          ],
          "name": "stdout"
        }
      ]
    },
    {
      "cell_type": "code",
      "metadata": {
        "colab": {
          "base_uri": "https://localhost:8080/",
          "height": 295
        },
        "id": "BkiI-AFzqb-n",
        "outputId": "08091946-c16a-45ef-e266-58b3a9e5e431"
      },
      "source": [
        "N = 7935\r\n",
        "x = np.arange(0,N)\r\n",
        "y = trend_TMX\r\n",
        "plt.scatter(x,y);\r\n",
        "plt.grid()\r\n",
        "plt.title('Serie de Tendencia Tmax 1990-2012 Tecate, BC')\r\n",
        "plt.xlabel('x')\r\n",
        "plt.ylabel('y')\r\n",
        "plt.show()"
      ],
      "execution_count": null,
      "outputs": [
        {
          "output_type": "display_data",
          "data": {
            "image/png": "[encoded data removed]",
            "text/plain": [
              "<Figure size 432x288 with 1 Axes>"
            ]
          },
          "metadata": {
            "tags": [],
            "needs_background": "light"
          }
        }
      ]
    },
    {
      "cell_type": "code",
      "metadata": {
        "colab": {
          "base_uri": "https://localhost:8080/"
        },
        "id": "zXsu1HWtqfvM",
        "outputId": "f57b5171-c546-463e-b674-e31b629d7197"
      },
      "source": [
        "# Construimos la matriz de Vandermonde\r\n",
        "X = np.column_stack([np.ones(N),x])\r\n",
        "print('Shape:', X.shape)\r\n",
        "# Imprimimos los primeros 5 renglones para verificar\r\n",
        "print(X[:5,:])"
      ],
      "execution_count": null,
      "outputs": [
        {
          "output_type": "stream",
          "text": [
            "Shape: (7935, 2)\n",
            "[[1. 0.]\n",
            " [1. 1.]\n",
            " [1. 2.]\n",
            " [1. 3.]\n",
            " [1. 4.]]\n"
          ],
          "name": "stdout"
        }
      ]
    },
    {
      "cell_type": "code",
      "metadata": {
        "colab": {
          "base_uri": "https://localhost:8080/"
        },
        "id": "M036AFVrqiNr",
        "outputId": "103f204a-30cc-4d5d-8b85-d88817048b7a"
      },
      "source": [
        "# Usamos la función scipy.linalg.solve() para resolver la ecuación X.T@X@a = X.T@y respecto a 'a'\r\n",
        "a = la.solve(X.T @ X, X.T @ y)\r\n",
        "print(a)"
      ],
      "execution_count": null,
      "outputs": [
        {
          "output_type": "stream",
          "text": [
            "[2.67882424e+01 2.11487196e-04]\n"
          ],
          "name": "stdout"
        }
      ]
    },
    {
      "cell_type": "code",
      "metadata": {
        "colab": {
          "base_uri": "https://localhost:8080/",
          "height": 295
        },
        "id": "wBGjDjGAqkpA",
        "outputId": "03f99144-6a05-48ff-d811-8f08f0968a96"
      },
      "source": [
        "# Graficamos el ajuste con esos 2 coeficientes de la regresión y = a_0 + a_1 x \r\n",
        "xs = np.linspace(0,N,20)\r\n",
        "ys = a[0] + a[1]*xs\r\n",
        "plt.plot(xs,ys,'r',linewidth=4)\r\n",
        "plt.scatter(x,y);\r\n",
        "plt.grid()\r\n",
        "plt.title('Ajuste mediante Regresión Lineal de los datos')\r\n",
        "plt.xlabel('x')\r\n",
        "plt.ylabel('y')\r\n",
        "plt.show()"
      ],
      "execution_count": null,
      "outputs": [
        {
          "output_type": "display_data",
          "data": {
            "image/png": "[encoded data removed]",
            "text/plain": [
              "<Figure size 432x288 with 1 Axes>"
            ]
          },
          "metadata": {
            "tags": [],
            "needs_background": "light"
          }
        }
      ]
    },
    {
      "cell_type": "code",
      "metadata": {
        "colab": {
          "base_uri": "https://localhost:8080/"
        },
        "id": "5iR2Ipetqm6c",
        "outputId": "cad685ea-08de-4e88-c2f9-4598a2ce55a9"
      },
      "source": [
        "# Método de descomposición usando la biblioteca statsmodels.tsa\r\n",
        "ts_test_TMN = df_90.Tmin\r\n",
        "decomposition_TMN = sm.tsa.seasonal_decompose(ts_test_TMN.interpolate(), model='additive', freq=365)\r\n",
        "\r\n",
        "# La función regresa 3 componentes: tendencia, estacionalidad y un residuo\r\n",
        "\r\n",
        "trend_TMN = decomposition_TMN.trend\r\n",
        "trend_TMN = trend_TMN[~np.isnan(trend_TMN)]\r\n",
        "print(trend_TMN)"
      ],
      "execution_count": null,
      "outputs": [
        {
          "output_type": "stream",
          "text": [
            "Fecha\n",
            "1990-07-02    8.293151\n",
            "1990-07-03    8.301370\n",
            "1990-07-04    8.306849\n",
            "1990-07-05    8.339726\n",
            "1990-07-06    8.361644\n",
            "                ...   \n",
            "2012-04-28    8.866849\n",
            "2012-04-29    8.872329\n",
            "2012-04-30    8.883288\n",
            "2012-05-01    8.894247\n",
            "2012-05-02    8.907945\n",
            "Name: Tmin, Length: 7935, dtype: float64\n"
          ],
          "name": "stdout"
        }
      ]
    },
    {
      "cell_type": "code",
      "metadata": {
        "colab": {
          "base_uri": "https://localhost:8080/",
          "height": 295
        },
        "id": "s_5PcJlNqqfW",
        "outputId": "4a7e39ad-121f-4cb2-80b9-8f5d3e51f3b9"
      },
      "source": [
        "N = 7935\r\n",
        "x = np.arange(0,N)\r\n",
        "y = trend_TMN\r\n",
        "plt.scatter(x,y);\r\n",
        "plt.grid()\r\n",
        "plt.title('Serie de Tendencia Tmin 1990-2012 Tecate, BC')\r\n",
        "plt.xlabel('x')\r\n",
        "plt.ylabel('y')\r\n",
        "plt.show()"
      ],
      "execution_count": null,
      "outputs": [
        {
          "output_type": "display_data",
          "data": {
            "image/png": "[encoded data removed]",
            "text/plain": [
              "<Figure size 432x288 with 1 Axes>"
            ]
          },
          "metadata": {
            "tags": [],
            "needs_background": "light"
          }
        }
      ]
    },
    {
      "cell_type": "code",
      "metadata": {
        "colab": {
          "base_uri": "https://localhost:8080/"
        },
        "id": "-zYeBVOGquFA",
        "outputId": "cc4f1d5d-d880-4e52-c241-ab607178686e"
      },
      "source": [
        "# Usamos la función scipy.linalg.solve() para resolver la ecuación X.T@X@a = X.T@y respecto a 'a'\r\n",
        "a = la.solve(X.T @ X, X.T @ y)\r\n",
        "print(a)"
      ],
      "execution_count": null,
      "outputs": [
        {
          "output_type": "stream",
          "text": [
            "[ 8.14671327e+00 -4.47790886e-05]\n"
          ],
          "name": "stdout"
        }
      ]
    },
    {
      "cell_type": "code",
      "metadata": {
        "colab": {
          "base_uri": "https://localhost:8080/",
          "height": 295
        },
        "id": "i-Gy4-7DqxOz",
        "outputId": "0373df94-a4bd-4ce1-dfb9-f906db0f0d2e"
      },
      "source": [
        "xs = np.linspace(0,N,20)\r\n",
        "ys = a[0] + a[1]*xs\r\n",
        "plt.plot(xs,ys,'r',linewidth=4)\r\n",
        "plt.scatter(x,y);\r\n",
        "plt.grid()\r\n",
        "plt.title('Ajuste mediante Regresión Lineal de los datos')\r\n",
        "plt.xlabel('x')\r\n",
        "plt.ylabel('y')\r\n",
        "plt.show()"
      ],
      "execution_count": null,
      "outputs": [
        {
          "output_type": "display_data",
          "data": {
            "image/png": "[encoded data removed]",
            "text/plain": [
              "<Figure size 432x288 with 1 Axes>"
            ]
          },
          "metadata": {
            "tags": [],
            "needs_background": "light"
          }
        }
      ]
    },
    {
      "cell_type": "code",
      "metadata": {
        "id": "QzPXBAj6qz--"
      },
      "source": [
        ""
      ],
      "execution_count": null,
      "outputs": []
    }
  ]
}